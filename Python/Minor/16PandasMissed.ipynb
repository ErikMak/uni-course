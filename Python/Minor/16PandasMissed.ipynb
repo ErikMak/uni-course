{
 "cells": [
  {
   "cell_type": "markdown",
   "metadata": {},
   "source": [
    "Введите число для запуска генератора псевдослучайных чисел - seed_value.\n",
    "\n",
    "Создайте датафрейм df, который содержит до 8 пропусков. Заполните пропуски средним значением соответствующего столбца. Выведите сумму всех значений после заполнения пропусков с точностью до двух знаков после запятой."
   ]
  },
  {
   "cell_type": "code",
   "execution_count": 12,
   "metadata": {},
   "outputs": [],
   "source": [
    "import pandas as pd\n",
    "import random\n",
    "\n",
    "random.seed(42)\n",
    "\n",
    "df = pd.DataFrame({\n",
    "    'Col1': [random.uniform(0, 10) for _ in range(5)],\n",
    "    'Col2': [random.uniform(0, 10) for _ in range(5)],\n",
    "    'Col3': [random.uniform(0, 10) for _ in range(5)]\n",
    "})\n",
    "\n",
    "for _ in range(8):\n",
    "    null_ind = random.randint(0, 4), random.randint(0, 2)\n",
    "    df.iloc[null_ind[0], null_ind[1]] = None"
   ]
  },
  {
   "cell_type": "code",
   "execution_count": 13,
   "metadata": {},
   "outputs": [
    {
     "name": "stdout",
     "output_type": "stream",
     "text": [
      "51.50\n"
     ]
    }
   ],
   "source": [
    "df.fillna(df.mean(), inplace=True)\n",
    "\n",
    "total_sum = df.sum().sum()\n",
    "print(f\"{total_sum:.2f}\")"
   ]
  },
  {
   "cell_type": "markdown",
   "metadata": {},
   "source": [
    "Введите число для запуска генератора псевдослучайных чисел - seed_value.\n",
    "\n",
    "Создайте датафрейм df, который содержит до 5 пропусков. Сгруппируйте по столбцу Col4 и найдите все группы, в которых нет пропусков. Выведите количество таких групп."
   ]
  },
  {
   "cell_type": "code",
   "execution_count": 16,
   "metadata": {},
   "outputs": [],
   "source": [
    "random.seed(42)\n",
    "\n",
    "df = pd.DataFrame({\n",
    "    'Col1': [random.uniform(0, 10) for _ in range(5)],\n",
    "    'Col2': [random.uniform(0, 10) for _ in range(5)],\n",
    "    'Col3': [random.uniform(0, 10) for _ in range(5)],\n",
    "    'Col4': list('AABCD')\n",
    "})\n",
    "\n",
    "for _ in range(5):\n",
    "    null_ind = random.randint(0, 4), random.randint(0, 2)\n",
    "    df.iloc[null_ind[0], null_ind[1]] = None"
   ]
  },
  {
   "cell_type": "code",
   "execution_count": 17,
   "metadata": {},
   "outputs": [
    {
     "name": "stdout",
     "output_type": "stream",
     "text": [
      "1\n"
     ]
    }
   ],
   "source": [
    "groups_without_nans = df.groupby('Col4').filter(lambda x: x.notna().all().all())\n",
    "\n",
    "\n",
    "count_groups = groups_without_nans['Col4'].nunique()\n",
    "print(f\"{count_groups}\")"
   ]
  }
 ],
 "metadata": {
  "kernelspec": {
   "display_name": "Python 3",
   "language": "python",
   "name": "python3"
  },
  "language_info": {
   "codemirror_mode": {
    "name": "ipython",
    "version": 3
   },
   "file_extension": ".py",
   "mimetype": "text/x-python",
   "name": "python",
   "nbconvert_exporter": "python",
   "pygments_lexer": "ipython3",
   "version": "3.12.0"
  }
 },
 "nbformat": 4,
 "nbformat_minor": 2
}
