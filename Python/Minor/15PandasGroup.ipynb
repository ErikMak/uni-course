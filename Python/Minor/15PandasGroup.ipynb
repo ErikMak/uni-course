{
 "cells": [
  {
   "cell_type": "markdown",
   "metadata": {},
   "source": [
    "Введите число для запуска генератора псевдослучайных чисел - seed_value.\n",
    "\n",
    "Создайте датафрейм df. Сгруппируйте данные по столбцу Type. Найдите медианы в столбце Price для каждой группы. Выведите медиану для группы D (должно быть целое число)."
   ]
  },
  {
   "cell_type": "code",
   "execution_count": 4,
   "metadata": {},
   "outputs": [],
   "source": [
    "import pandas as pd\n",
    "import random\n",
    "\n",
    "seed = 42\n",
    "random.seed(seed)\n",
    "\n",
    "df = pd.DataFrame({'ID': [10,11,12,13,14,15,16], \n",
    "                  'Type': ['A','B','C','A','C','D','A'],\n",
    "                  'Task': ['First','Second','First','Second','Third','First','Fifth'],\n",
    "                  'Color': ['blue','red','blue','black','red','red','red'],\n",
    "                  'Link': [123,123,123,523,523,523,765],\n",
    "                  'Price': [random.randint(100, 1000) for _ in range(7)],\n",
    "                  'Volume': [random.uniform(10, 100) for _ in range(7)],\n",
    "                  })"
   ]
  },
  {
   "cell_type": "code",
   "execution_count": 5,
   "metadata": {},
   "outputs": [
    {
     "name": "stdout",
     "output_type": "stream",
     "text": [
      "350\n"
     ]
    }
   ],
   "source": [
    "median_prices = df.groupby('Type')['Price'].median()\n",
    "\n",
    "median_d = median_prices.loc['D']\n",
    "print(f\"{int(median_d)}\")"
   ]
  },
  {
   "cell_type": "markdown",
   "metadata": {},
   "source": [
    "Введите число для запуска генератора псевдослучайных чисел - seed_value.\n",
    "\n",
    "Создайте датафрейм df. Сгруппируйте данные по столбцам Task и Color. Найдите сумму в столбце Volume для каждой группы. Выведите сумму с точностью до двух знаков после запятой для группы с метками индекса First и blue."
   ]
  },
  {
   "cell_type": "code",
   "execution_count": 6,
   "metadata": {},
   "outputs": [
    {
     "name": "stdout",
     "output_type": "stream",
     "text": [
      "99.22\n"
     ]
    }
   ],
   "source": [
    "grouped_sum = df.groupby(['Task', 'Color'])['Volume'].sum()\n",
    "\n",
    "sum_value = grouped_sum.loc[('First', 'blue')]\n",
    "print(f\"{sum_value:.2f}\")"
   ]
  },
  {
   "cell_type": "markdown",
   "metadata": {},
   "source": [
    "Введите число для запуска генератора псевдослучайных чисел - seed_value.\n",
    "\n",
    "Создайте датафрейм df. Сгруппируйте данные по столбцу Link. Найдите те группы, у которых среднее значение по столбцу Volume больше 40. Выведите списком значения Link для таких групп."
   ]
  },
  {
   "cell_type": "code",
   "execution_count": 7,
   "metadata": {},
   "outputs": [
    {
     "name": "stdout",
     "output_type": "stream",
     "text": [
      "[523]\n"
     ]
    }
   ],
   "source": [
    "mean_volume = df.groupby('Link')['Volume'].mean()\n",
    "\n",
    "filtered_links = mean_volume[mean_volume > 40].index.tolist()\n",
    "\n",
    "print(filtered_links)"
   ]
  }
 ],
 "metadata": {
  "kernelspec": {
   "display_name": "Python 3",
   "language": "python",
   "name": "python3"
  },
  "language_info": {
   "codemirror_mode": {
    "name": "ipython",
    "version": 3
   },
   "file_extension": ".py",
   "mimetype": "text/x-python",
   "name": "python",
   "nbconvert_exporter": "python",
   "pygments_lexer": "ipython3",
   "version": "3.12.0"
  }
 },
 "nbformat": 4,
 "nbformat_minor": 2
}
