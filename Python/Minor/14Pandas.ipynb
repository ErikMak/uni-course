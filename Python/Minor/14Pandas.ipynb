{
 "cells": [
  {
   "cell_type": "markdown",
   "metadata": {},
   "source": [
    "Создайте словарь с ключами a, b, c и нулевыми значениями. Преобразуйте словарь в объект Series (ряд). Второй ряд создайте из списка, который содержит пять единиц. Объедините первый ряд со вторым. В итоговом ряду должно быть восемь значений без пропусков с метками индекса от 0 до 7. Выведите итоговый ряд на экран"
   ]
  },
  {
   "cell_type": "code",
   "execution_count": 3,
   "metadata": {},
   "outputs": [
    {
     "name": "stdout",
     "output_type": "stream",
     "text": [
      "0    0\n",
      "1    0\n",
      "2    0\n",
      "3    1\n",
      "4    1\n",
      "5    1\n",
      "6    1\n",
      "7    1\n",
      "dtype: int64\n"
     ]
    }
   ],
   "source": [
    "import pandas as pd\n",
    "\n",
    "data_dict = {'a': 0, 'b': 0, 'c': 0}\n",
    "\n",
    "series1 = pd.Series(data_dict)\n",
    "series2 = pd.Series([1, 1, 1, 1, 1])\n",
    "\n",
    "\n",
    "result_series = pd.concat([series1, series2], ignore_index=True)\n",
    "\n",
    "print(result_series)"
   ]
  },
  {
   "cell_type": "markdown",
   "metadata": {},
   "source": [
    "Введите число для запуска генератора псевдослучайных чисел - seed_value.\n",
    "\n",
    "Создайте ряд из пяти случайных чисел (с помощью, например, random.randint(50, 300)). Это будет количество посещений сайта за пять дней. Используйте для меток индекса ряда последовательность ['01-04-2022', '02-04-2022', '03-04-2022', '04-04-2022', '05-04-2022'].\n",
    "Выведите среднее количество посещений за весь период времени с точностью до одного знака после запятой."
   ]
  },
  {
   "cell_type": "code",
   "execution_count": 4,
   "metadata": {},
   "outputs": [],
   "source": [
    "import random\n",
    "\n",
    "seed = 42\n",
    "random.seed(seed)"
   ]
  },
  {
   "cell_type": "code",
   "execution_count": 5,
   "metadata": {},
   "outputs": [
    {
     "name": "stdout",
     "output_type": "stream",
     "text": [
      "141.2\n"
     ]
    }
   ],
   "source": [
    "visits = [random.randint(50, 300) for _ in range(5)]\n",
    "\n",
    "\n",
    "dates = ['01-04-2022', '02-04-2022', '03-04-2022', '04-04-2022', '05-04-2022']\n",
    "visits_series = pd.Series(visits, index=dates)\n",
    "\n",
    "average_visits = visits_series.mean()\n",
    "\n",
    "print(f\"{average_visits:.1f}\")"
   ]
  },
  {
   "cell_type": "markdown",
   "metadata": {},
   "source": [
    "Введите число для запуска генератора псевдослучайных чисел - seed_value.\n",
    "\n",
    "Создайте ряд из пяти случайных чисел (с помощью, например, random.randint(50, 300)). Это будет количество посещений сайта за пять дней. Используйте для меток индекса ряда последовательность ['01-04-2022', '02-04-2022', '03-04-2022', '04-04-2022', '05-04-2022'].\n",
    "\n",
    "Создайте датафрейм, состоящий из ряда с количеством посещений. Дайте новое имя нулевому столбцу - visits. Добавьте новый столбец diff, полученный из значений visits минус среднее значение за пять дней. Выведите значение столбца diff на дату 02-04-2022 с точностью до одного знака после запятой."
   ]
  },
  {
   "cell_type": "code",
   "execution_count": 6,
   "metadata": {},
   "outputs": [
    {
     "name": "stdout",
     "output_type": "stream",
     "text": [
      "-16.6\n"
     ]
    }
   ],
   "source": [
    "visits = [random.randint(50, 300) for _ in range(5)]\n",
    "\n",
    "dates = ['01-04-2022', '02-04-2022', '03-04-2022', '04-04-2022', '05-04-2022']\n",
    "visits_series = pd.Series(visits, index=dates)\n",
    "\n",
    "df = pd.DataFrame(visits_series, columns=['visits'])\n",
    "\n",
    "mean_visits = df['visits'].mean()\n",
    "df['diff'] = df['visits'] - mean_visits\n",
    "\n",
    "print(f\"{df.loc['02-04-2022', 'diff']:.1f}\")"
   ]
  }
 ],
 "metadata": {
  "kernelspec": {
   "display_name": "Python 3",
   "language": "python",
   "name": "python3"
  },
  "language_info": {
   "codemirror_mode": {
    "name": "ipython",
    "version": 3
   },
   "file_extension": ".py",
   "mimetype": "text/x-python",
   "name": "python",
   "nbconvert_exporter": "python",
   "pygments_lexer": "ipython3",
   "version": "3.12.0"
  }
 },
 "nbformat": 4,
 "nbformat_minor": 2
}
