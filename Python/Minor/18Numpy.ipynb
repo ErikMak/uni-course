{
 "cells": [
  {
   "cell_type": "markdown",
   "metadata": {},
   "source": [
    "Введите seed и создайте вектор размера 16 из целых случайных чисел в диапазоне от 0 до 10 включительно. Измените форму вектора на матрицу 4х4. Найдите и выведите на экран сумму чисел, стоящих на главной диагонали."
   ]
  },
  {
   "cell_type": "code",
   "execution_count": 2,
   "metadata": {},
   "outputs": [],
   "source": [
    "import numpy as np\n",
    "\n",
    "seed = 42\n",
    "np.random.seed(seed)"
   ]
  },
  {
   "cell_type": "code",
   "execution_count": 3,
   "metadata": {},
   "outputs": [
    {
     "name": "stdout",
     "output_type": "stream",
     "text": [
      "29\n"
     ]
    }
   ],
   "source": [
    "vector = np.random.randint(0, 11, size=16)\n",
    "\n",
    "\n",
    "matrix = vector.reshape(4, 4)\n",
    "\n",
    "diagonal_sum = np.trace(matrix)\n",
    "\n",
    "print(diagonal_sum)"
   ]
  },
  {
   "cell_type": "markdown",
   "metadata": {},
   "source": [
    "Введите seed и создайте вектор размера 10 из целых случайных чисел в диапазоне от 0 до 100. Введите любое целое число num и выведите ближайшее к нему число из массива. Цикл for не использовать!"
   ]
  },
  {
   "cell_type": "code",
   "execution_count": 4,
   "metadata": {},
   "outputs": [
    {
     "name": "stdout",
     "output_type": "stream",
     "text": [
      "37\n"
     ]
    }
   ],
   "source": [
    "vector = np.random.randint(0, 101, size=10)\n",
    "\n",
    "num = 40\n",
    "nearest_value = vector[np.abs(vector - num).argmin()]\n",
    "\n",
    "print(nearest_value)"
   ]
  },
  {
   "cell_type": "markdown",
   "metadata": {},
   "source": [
    "Введите целое число number и создайте numpy массив из целых чисел от 1 до number включительно. Добавьте три нуля между каждыми соседними элементами массива. Выведите результирующий массив на экран."
   ]
  },
  {
   "cell_type": "code",
   "execution_count": 5,
   "metadata": {},
   "outputs": [
    {
     "name": "stdout",
     "output_type": "stream",
     "text": [
      "[1 0 0 0 2 0 0 0 3]\n"
     ]
    }
   ],
   "source": [
    "number = 3\n",
    "\n",
    "array = np.arange(1, number + 1)\n",
    "result = np.zeros(len(array) + 3 * (len(array) - 1), dtype=int)\n",
    "result[::4] = array\n",
    "\n",
    "\n",
    "print(result)"
   ]
  },
  {
   "cell_type": "markdown",
   "metadata": {},
   "source": [
    "Напишите функцию add_one(ind), которая добавляет единицу к элементам вектора, состоящего из нулей, чей индекс указан в векторе ind. Функция выводит полученный вектор на экран. Цикл for не использовать!"
   ]
  },
  {
   "cell_type": "code",
   "execution_count": 13,
   "metadata": {},
   "outputs": [],
   "source": [
    "def add_one(ind):\n",
    "    size = np.max(ind) + 1\n",
    "    vector = np.zeros(size, dtype=int)\n",
    "    \n",
    "    np.add.at(vector, ind, 1)\n",
    "    \n",
    "    print(vector)"
   ]
  },
  {
   "cell_type": "code",
   "execution_count": 14,
   "metadata": {},
   "outputs": [
    {
     "name": "stdout",
     "output_type": "stream",
     "text": [
      "[0 1 2]\n"
     ]
    }
   ],
   "source": [
    "ind = np.array([1, 2, 2])\n",
    "add_one(ind)"
   ]
  },
  {
   "cell_type": "code",
   "execution_count": 15,
   "metadata": {},
   "outputs": [
    {
     "name": "stdout",
     "output_type": "stream",
     "text": [
      "[0 1 1 1 1 0 1]\n"
     ]
    }
   ],
   "source": [
    "ind = np.array([1, 2, 3, 4, 6])\n",
    "add_one(ind)"
   ]
  }
 ],
 "metadata": {
  "kernelspec": {
   "display_name": "Python 3",
   "language": "python",
   "name": "python3"
  },
  "language_info": {
   "codemirror_mode": {
    "name": "ipython",
    "version": 3
   },
   "file_extension": ".py",
   "mimetype": "text/x-python",
   "name": "python",
   "nbconvert_exporter": "python",
   "pygments_lexer": "ipython3",
   "version": "3.12.0"
  }
 },
 "nbformat": 4,
 "nbformat_minor": 2
}
